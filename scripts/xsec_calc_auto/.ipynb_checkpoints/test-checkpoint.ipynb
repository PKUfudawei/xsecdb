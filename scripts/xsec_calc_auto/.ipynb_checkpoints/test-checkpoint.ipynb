{
 "cells": [
  {
   "cell_type": "code",
   "execution_count": 9,
   "id": "2933eb72-c568-4718-bbc2-32cae1c2f740",
   "metadata": {},
   "outputs": [],
   "source": [
    "import pycurl, os, json, io"
   ]
  },
  {
   "cell_type": "code",
   "execution_count": 26,
   "id": "f39616d1-52af-4152-ba11-de6a99e8c626",
   "metadata": {},
   "outputs": [],
   "source": [
    "base_url = 'https://xsecdb-xsdb-official.app.cern.ch'\n",
    "api_url = os.path.join(base_url, 'api')\n",
    "\n",
    "# you can also create this cookie manually\n",
    "#os.remove(os.path.expanduser(\"~/private/xsdbdev-cookie.txt\"))\n",
    "#os.system(f\"auth-get-sso-cookie -u {base_url} -o ~/private/xsdbdev-cookie.txt\")\n",
    "\n",
    "c = pycurl.Curl()\n",
    "c.setopt(c.FOLLOWLOCATION, 1)\n",
    "c.setopt(c.COOKIEJAR, os.path.expanduser(\"~/private/xsdbdev-cookie.txt\"))\n",
    "c.setopt(c.COOKIEFILE, os.path.expanduser(\"~/private/xsdbdev-cookie.txt\"))\n",
    "c.setopt(c.HTTPHEADER, ['Content-Type:application/json', 'Accept:application/json'])\n",
    "c.setopt(c.VERBOSE, False)  # set to True for debug\n",
    "c.setopt(c.URL, os.path.join(api_url, 'insert'))\n",
    "c.setopt(c.POST, True)"
   ]
  },
  {
   "cell_type": "code",
   "execution_count": 29,
   "id": "ba4920e5-9ba1-4c3d-82d3-1285e9c469b4",
   "metadata": {},
   "outputs": [
    {
     "data": {
      "text/plain": [
       "'/afs/cern.ch/user/d/dfu/xsecdb/scripts/xsec_calc_auto'"
      ]
     },
     "execution_count": 29,
     "metadata": {},
     "output_type": "execute_result"
    }
   ],
   "source": [
    "os.path.abspath('./')"
   ]
  },
  {
   "cell_type": "code",
   "execution_count": 15,
   "id": "81c8aecc-67a7-4be8-a902-0ee8135d90f6",
   "metadata": {},
   "outputs": [],
   "source": [
    "query = {\n",
    "    'process_name': 'B0ToJPsiK0S-JPsiTo2Mu-K0STo2Pi_SVS_Fil-Jpsi-K0S_TuneCP5_13p6TeV_pythia8-evtgen',\n",
    "}\n",
    "json_query = json.dumps(query)\n"
   ]
  },
  {
   "cell_type": "code",
   "execution_count": 27,
   "id": "5d223555-cc78-402b-a189-af5930141cd2",
   "metadata": {},
   "outputs": [
    {
     "data": {
      "text/plain": [
       "'{\"DAS\": \"/ZZZ-5F_TuneCP5_13p6TeV_amcatnlo-pythia8/RunIII2024Summer24MiniAOD-140X_mcRun3_2024_realistic_v26-v2/MINIAODSIM\", \"comments\": \"Automatically computed\", \"process_name\": \"ZZZ-5F_TuneCP5_13p6TeV_amcatnlo-pythia8\", \"accuracy\": \"NLO\", \"cross_section\": 0.01591, \"energy\": \"13.6\", \"total_uncertainty\": 5.835e-07, \"equivalent_lumi\": 49330.0, \"fraction_negative_weight\": 0.05705, \"matrix_generator\": \"Madgraph\", \"shower\": \"Pythia8\", \"MCM\": \"HIG-RunIII2024Summer24MiniAOD-00189\"}'"
      ]
     },
     "execution_count": 27,
     "metadata": {},
     "output_type": "execute_result"
    }
   ],
   "source": [
    "with open(os.path.expanduser('~/xsecdb/scripts/xsec_calc_auto/json/ZZZ-5F_TuneCP5_13p6TeV_amcatnlo-pythia8.json')) as data_file:    \n",
    "    data = json.load(data_file)\n",
    "json.dumps(data['records'][0])"
   ]
  },
  {
   "cell_type": "code",
   "execution_count": 28,
   "id": "397e6330-fc23-4a79-9d03-1be6b3ce6f1f",
   "metadata": {},
   "outputs": [],
   "source": [
    "c.setopt(c.POSTFIELDS, json.dumps(data['records'][0]))\n",
    "c.perform()"
   ]
  },
  {
   "cell_type": "code",
   "execution_count": 16,
   "id": "ea7fe83c-53e7-44da-8702-984bb883c1af",
   "metadata": {},
   "outputs": [],
   "source": [
    "c.setopt(c.POSTFIELDS, json_query)\n",
    "byte_io = io.BytesIO()\n",
    "c.setopt(c.WRITEFUNCTION, byte_io.write)\n",
    "c.perform()\n",
    "search_result = byte_io.getvalue().decode('UTF-8')"
   ]
  },
  {
   "cell_type": "code",
   "execution_count": 17,
   "id": "a57b8cb6-a0df-4b6c-b6dd-259338f5aa1f",
   "metadata": {},
   "outputs": [
    {
     "data": {
      "text/plain": [
       "'[]'"
      ]
     },
     "execution_count": 17,
     "metadata": {},
     "output_type": "execute_result"
    }
   ],
   "source": [
    "search_result"
   ]
  },
  {
   "cell_type": "code",
   "execution_count": null,
   "id": "334ffe2d-35d7-4df4-a4f8-3f3a650be7eb",
   "metadata": {},
   "outputs": [],
   "source": []
  }
 ],
 "metadata": {
  "kernelspec": {
   "display_name": "Python 3 (ipykernel)",
   "language": "python",
   "name": "python3"
  },
  "language_info": {
   "codemirror_mode": {
    "name": "ipython",
    "version": 3
   },
   "file_extension": ".py",
   "mimetype": "text/x-python",
   "name": "python",
   "nbconvert_exporter": "python",
   "pygments_lexer": "ipython3",
   "version": "3.9.21"
  }
 },
 "nbformat": 4,
 "nbformat_minor": 5
}
